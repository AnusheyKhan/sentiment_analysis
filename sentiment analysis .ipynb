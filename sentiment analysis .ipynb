{
 "cells": [
  {
   "cell_type": "code",
   "execution_count": 1,
   "id": "79fc95db",
   "metadata": {},
   "outputs": [
    {
     "name": "stdout",
     "output_type": "stream",
     "text": [
      "Requirement already satisfied: wordcloud in c:\\users\\anushey khan\\anaconda3\\lib\\site-packages (1.9.3)\n",
      "Requirement already satisfied: numpy>=1.6.1 in c:\\users\\anushey khan\\anaconda3\\lib\\site-packages (from wordcloud) (1.20.3)\n",
      "Requirement already satisfied: pillow in c:\\users\\anushey khan\\anaconda3\\lib\\site-packages (from wordcloud) (8.4.0)\n",
      "Requirement already satisfied: matplotlib in c:\\users\\anushey khan\\anaconda3\\lib\\site-packages (from wordcloud) (3.4.3)\n",
      "Requirement already satisfied: cycler>=0.10 in c:\\users\\anushey khan\\anaconda3\\lib\\site-packages (from matplotlib->wordcloud) (0.10.0)\n",
      "Requirement already satisfied: pyparsing>=2.2.1 in c:\\users\\anushey khan\\anaconda3\\lib\\site-packages (from matplotlib->wordcloud) (3.0.4)\n",
      "Requirement already satisfied: python-dateutil>=2.7 in c:\\users\\anushey khan\\anaconda3\\lib\\site-packages (from matplotlib->wordcloud) (2.8.2)\n",
      "Requirement already satisfied: kiwisolver>=1.0.1 in c:\\users\\anushey khan\\anaconda3\\lib\\site-packages (from matplotlib->wordcloud) (1.3.1)\n",
      "Requirement already satisfied: six in c:\\users\\anushey khan\\anaconda3\\lib\\site-packages (from cycler>=0.10->matplotlib->wordcloud) (1.16.0)\n",
      "Note: you may need to restart the kernel to use updated packages.\n"
     ]
    }
   ],
   "source": [
    "%pip install wordcloud"
   ]
  },
  {
   "cell_type": "code",
   "execution_count": 18,
   "id": "2a77dc95",
   "metadata": {},
   "outputs": [],
   "source": [
    "\n",
    "#NLTK, SKlearn, pickle module, and general libs\n",
    "import numpy as np\n",
    "import pandas as pd\n",
    "import matplotlib.pyplot as plt\n",
    "import seaborn as sns\n",
    "import nltk\n",
    "from nltk.stem.porter import PorterStemmer\n",
    "from sklearn.model_selection import cross_val_score\n",
    "from sklearn.ensemble import RandomForestClassifier\n",
    "from sklearn.metrics import confusion_matrix, ConfusionMatrixDisplay\n",
    "from nltk.corpus import stopwords\n",
    "from wordcloud import WordCloud\n",
    "import pickle\n",
    "import re\n",
    "from sklearn.preprocessing import MinMaxScaler\n",
    "from sklearn.feature_extraction.text import CountVectorizer\n",
    "from sklearn.model_selection import train_test_split\n",
    "\n"
   ]
  },
  {
   "cell_type": "code",
   "execution_count": 19,
   "id": "d8511828",
   "metadata": {},
   "outputs": [
    {
     "name": "stdout",
     "output_type": "stream",
     "text": [
      "rating              0\n",
      "date                0\n",
      "variation           0\n",
      "verified_reviews    0\n",
      "feedback            0\n",
      "dtype: int64\n"
     ]
    }
   ],
   "source": [
    "#data exploration \n",
    "\n",
    "rev = pd.read_csv(r\"amazon_alexa.tsv\", delimiter='\\t', quoting=3)\n",
    "\n",
    "null = rev.isnull().sum()\n",
    "print(null)\n",
    "\n",
    "\n",
    "\n"
   ]
  },
  {
   "cell_type": "code",
   "execution_count": 20,
   "id": "c61daa74",
   "metadata": {},
   "outputs": [
    {
     "name": "stdout",
     "output_type": "stream",
     "text": [
      "Feature names : ['rating' 'date' 'variation' 'verified_reviews' 'feedback' 'length']\n"
     ]
    }
   ],
   "source": [
    "#adding another coloum to analyze reviews char length\n",
    "\n",
    "rev['length'] = rev['verified_reviews'].apply(len)\n",
    "\n",
    "print(f\"Feature names : {rev.columns.values}\")"
   ]
  },
  {
   "cell_type": "code",
   "execution_count": 21,
   "id": "a5fb30ab",
   "metadata": {},
   "outputs": [
    {
     "name": "stdout",
     "output_type": "stream",
     "text": [
      "Rating value count: \n",
      "5    2286\n",
      "4     455\n",
      "1     161\n",
      "3     152\n",
      "2      96\n",
      "Name: rating, dtype: int64\n"
     ]
    },
    {
     "data": {
      "image/png": "[encoded data removed]",
      "text/plain": [
       "<Figure size 432x288 with 1 Axes>"
      ]
     },
     "metadata": {
      "needs_background": "light"
     },
     "output_type": "display_data"
    }
   ],
   "source": [
    "#bar chat to analyze rating coloum\n",
    "\n",
    "print(f\"Rating value count: \\n{rev['rating'].value_counts()}\")\n",
    "\n",
    "rev['rating'].value_counts().plot.bar(color='blue')\n",
    "plt.title('Rating distribution')\n",
    "plt.xlabel('Ratings')\n",
    "plt.ylabel('Count')\n",
    "plt.show()"
   ]
  },
  {
   "cell_type": "code",
   "execution_count": 22,
   "id": "7846cbfc",
   "metadata": {},
   "outputs": [
    {
     "name": "stdout",
     "output_type": "stream",
     "text": [
      "Rating value count - percentage distribution: \n",
      "5    72.57\n",
      "4    14.44\n",
      "1     5.11\n",
      "3     4.83\n",
      "2     3.05\n",
      "Name: rating, dtype: float64\n"
     ]
    }
   ],
   "source": [
    "# percentage distrubution of rating \n",
    "\n",
    "print(f\"Rating value count - percentage distribution: \\n{round(rev['rating'].value_counts() / rev.shape[0] * 100, 2)}\")\n",
    "\n"
   ]
  },
  {
   "cell_type": "code",
   "execution_count": 23,
   "id": "53687c53",
   "metadata": {},
   "outputs": [],
   "source": [
    "#checking if the negative and postive reviews are unique\n",
    "\n",
    "neg_reviews = \" \".join([review for review in rev[rev['feedback'] == 0]['verified_reviews']])\n",
    "neg_reviews = neg_reviews.lower().split()\n",
    "\n",
    "pos_reviews = \" \".join([review for review in rev[rev['feedback'] == 1]['verified_reviews']])\n",
    "pos_reviews = pos_reviews.lower().split()\n",
    "\n",
    "unique_negative = [x for x in neg_reviews if x not in pos_reviews]\n",
    "unique_negative = \" \".join(unique_negative)\n",
    "\n",
    "unique_positive = [x for x in pos_reviews if x not in neg_reviews]\n",
    "unique_positive = \" \".join(unique_positive)"
   ]
  },
  {
   "cell_type": "code",
   "execution_count": 24,
   "id": "e20a15ad",
   "metadata": {},
   "outputs": [
    {
     "name": "stderr",
     "output_type": "stream",
     "text": [
      "[nltk_data] Downloading package stopwords to C:\\Users\\Anushey\n",
      "[nltk_data]     Khan\\AppData\\Roaming\\nltk_data...\n",
      "[nltk_data]   Package stopwords is already up-to-date!\n"
     ]
    }
   ],
   "source": [
    "# text processing, removing unusal chars with space, lowercase letters, excluding stop words\n",
    "# download stopwords if not already downloaded\n",
    "\n",
    "nltk.download('stopwords')\n",
    "\n",
    "# Load stopwords\n",
    "STOPWORDS = set(stopwords.words('english'))\n",
    "\n",
    "lis = []\n",
    "stemmer = PorterStemmer()\n",
    "for i in range(0, rev.shape[0]):\n",
    "    review = re.sub('[^a-zA-Z]', ' ', rev.iloc[i]['verified_reviews'])\n",
    "    review = review.lower().split()\n",
    "    review = [stemmer.stem(word) for word in review if not word in STOPWORDS]\n",
    "    review = ' '.join(review)\n",
    "    lis.append(review)\n",
    "\n",
    "cv = CountVectorizer(max_features=2500)\n",
    "\n",
    "X = cv.fit_transform(lis).toarray()\n",
    "y = rev['feedback'].values"
   ]
  },
  {
   "cell_type": "code",
   "execution_count": 25,
   "id": "55b1bc24",
   "metadata": {},
   "outputs": [
    {
     "name": "stdout",
     "output_type": "stream",
     "text": [
      "Training Accuracy : 0.9941043083900227\n",
      "Testing Accuracy : 0.9439153439153439\n"
     ]
    }
   ],
   "source": [
    "# model traning with RF, begin by scaling data\n",
    "\n",
    "X_train, X_test, y_train, y_test = train_test_split(X, y, test_size=0.3, random_state=15)\n",
    "\n",
    "scaler = MinMaxScaler()\n",
    "X_train_scl = scaler.fit_transform(X_train)\n",
    "X_test_scl = scaler.transform(X_test)\n",
    "\n",
    "model_rf = RandomForestClassifier()\n",
    "model_rf.fit(X_train_scl, y_train)\n",
    "\n",
    "#evaluating our model\n",
    "\n",
    "print(\"Training Accuracy :\", model_rf.score(X_train_scl, y_train))\n",
    "print(\"Testing Accuracy :\", model_rf.score(X_test_scl, y_test))\n",
    "\n"
   ]
  },
  {
   "cell_type": "code",
   "execution_count": 26,
   "id": "e35f484f",
   "metadata": {},
   "outputs": [
    {
     "data": {
      "image/png": "[encoded data removed]",
      "text/plain": [
       "<Figure size 432x288 with 2 Axes>"
      ]
     },
     "metadata": {
      "needs_background": "light"
     },
     "output_type": "display_data"
    },
    {
     "name": "stdout",
     "output_type": "stream",
     "text": [
      "Accuracy : 0.9369703825586179\n",
      "Standard Variance : 0.01200857413790332\n"
     ]
    }
   ],
   "source": [
    "\n",
    "#visualizing scores \n",
    "\n",
    "y_preds = model_rf.predict(X_test_scl)\n",
    "\n",
    "cm = confusion_matrix(y_test, y_preds)\n",
    "cm_display = ConfusionMatrixDisplay(confusion_matrix=cm, display_labels=model_rf.classes_)\n",
    "cm_display.plot()\n",
    "plt.show()\n",
    "\n",
    "accuracies = cross_val_score(estimator=model_rf, X=X_train_scl, y=y_train, cv=10)\n",
    "\n",
    "print(\"Accuracy :\", accuracies.mean())\n",
    "print(\"Standard Variance :\", accuracies.std())"
   ]
  },
  {
   "cell_type": "code",
   "execution_count": null,
   "id": "a632430e",
   "metadata": {},
   "outputs": [],
   "source": []
  }
 ],
 "metadata": {
  "kernelspec": {
   "display_name": "Python 3 (ipykernel)",
   "language": "python",
   "name": "python3"
  },
  "language_info": {
   "codemirror_mode": {
    "name": "ipython",
    "version": 3
   },
   "file_extension": ".py",
   "mimetype": "text/x-python",
   "name": "python",
   "nbconvert_exporter": "python",
   "pygments_lexer": "ipython3",
   "version": "3.9.7"
  }
 },
 "nbformat": 4,
 "nbformat_minor": 5
}
